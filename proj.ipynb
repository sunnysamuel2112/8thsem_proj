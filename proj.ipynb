{
 "cells": [
  {
   "cell_type": "markdown",
   "metadata": {},
   "source": []
  },
  {
   "cell_type": "code",
   "execution_count": null,
   "metadata": {},
   "outputs": [],
   "source": [
    "import cv2"
   ]
  },
  {
   "cell_type": "markdown",
   "metadata": {},
   "source": []
  },
  {
   "cell_type": "code",
   "execution_count": null,
   "metadata": {},
   "outputs": [],
   "source": [
    "#pip install DeepFace\n",
    "from deepface import DeepFace "
   ]
  },
  {
   "cell_type": "markdown",
   "metadata": {},
   "source": []
  },
  {
   "cell_type": "code",
   "execution_count": null,
   "metadata": {},
   "outputs": [],
   "source": [
    "import matplotlib.pyplot as plt\n",
    "import cv2\n",
    "\n",
    "# Load the image using OpenCV\n",
    "img = cv2.imread(\"happyboy.jpg\")\n",
    "\n",
    "# Convert the BGR image to RGB\n",
    "img = cv2.cvtColor(img, cv2.COLOR_BGR2RGB)\n",
    "\n",
    "# Display the image using Matplotlib\n",
    "plt.imshow(img)\n",
    "plt.show()"
   ]
  },
  {
   "cell_type": "markdown",
   "metadata": {},
   "source": []
  },
  {
   "cell_type": "code",
   "execution_count": null,
   "metadata": {},
   "outputs": [],
   "source": [
    "gray = cv2.cvtColor(img, cv2.COLOR_BGR2GRAY)\n",
    "\n",
    "# Display the original image using Matplotlib\n",
    "plt.subplot(121)\n",
    "plt.imshow(cv2.cvtColor(img, cv2.COLOR_BGR2RGB))\n",
    "plt.title('Original Image')\n",
    "\n",
    "# Display the grayscale image using Matplotlib\n",
    "plt.subplot(122)\n",
    "plt.imshow(gray, cmap='gray')\n",
    "plt.title('Grayscale Image')\n",
    "\n",
    "plt.show()"
   ]
  },
  {
   "cell_type": "markdown",
   "metadata": {},
   "source": []
  },
  {
   "cell_type": "code",
   "execution_count": null,
   "metadata": {},
   "outputs": [],
   "source": [
    "\n",
    "# Load the Haar cascade classifier for face detection\n",
    "face_cascade = cv2.CascadeClassifier('haarcascade_frontalface_default.xml')\n",
    "\n",
    "# Convert the image to grayscale\n",
    "gray = cv2.cvtColor(img, cv2.COLOR_BGR2GRAY)\n",
    "\n",
    "# Detect faces in the grayscale image using the classifier\n",
    "faces = face_cascade.detectMultiScale(gray, scaleFactor=1.3, minNeighbors=5)\n",
    "\n",
    "# Draw a rectangle around each detected face\n",
    "for (x, y, w, h) in faces:\n",
    "    cv2.rectangle(img, (x, y), (x+w, y+h), (255, 0, 0), 2)\n",
    "\n",
    "# Display the image with the detected faces using Matplotlib\n",
    "plt.imshow(cv2.cvtColor(img, cv2.COLOR_BGR2RGB))\n",
    "plt.show()"
   ]
  },
  {
   "cell_type": "markdown",
   "metadata": {},
   "source": []
  },
  {
   "cell_type": "code",
   "execution_count": null,
   "metadata": {},
   "outputs": [],
   "source": [
    "for (x, y, w, h) in faces:\n",
    "    face_cropped = img[y:y+h, x:x+w]\n",
    "    plt.imshow(cv2.cvtColor(face_cropped, cv2.COLOR_BGR2RGB))\n",
    "    plt.show()"
   ]
  },
  {
   "cell_type": "markdown",
   "metadata": {},
   "source": []
  },
  {
   "cell_type": "code",
   "execution_count": 8,
   "metadata": {},
   "outputs": [],
   "source": [
    "import time"
   ]
  },
  {
   "cell_type": "markdown",
   "metadata": {},
   "source": []
  },
  {
   "cell_type": "code",
   "execution_count": null,
   "metadata": {},
   "outputs": [],
   "source": [
    "# Analyze emotions in the full image\n",
    "start_time = time.time()\n",
    "DeepFace.analyze(img, actions=['emotion'])\n",
    "end_time = time.time()\n",
    "time_uncropped = end_time - start_time\n",
    "\n",
    "# Analyze emotions in the full image\n",
    "start_time = time.time()\n",
    "DeepFace.analyze(face_cropped, actions=['emotion'])\n",
    "end_time = time.time()\n",
    "time_cropped = end_time - start_time\n"
   ]
  },
  {
   "cell_type": "markdown",
   "metadata": {},
   "source": []
  },
  {
   "cell_type": "code",
   "execution_count": null,
   "metadata": {},
   "outputs": [],
   "source": [
    "\n",
    "# Print the time it takes to analyze emotions in each image\n",
    "print(\"Time to analyze emotions in cropped face image: %.2f seconds\" % time_uncropped)\n",
    "\n",
    "# Print the time it takes to analyze emotions in each image\n",
    "print(\"Time to analyze emotions in cropped face image: %.2f seconds\" % time_cropped)"
   ]
  },
  {
   "cell_type": "markdown",
   "metadata": {},
   "source": []
  },
  {
   "cell_type": "code",
   "execution_count": null,
   "metadata": {},
   "outputs": [],
   "source": [
    "import numpy as np"
   ]
  },
  {
   "cell_type": "markdown",
   "metadata": {},
   "source": []
  },
  {
   "cell_type": "code",
   "execution_count": null,
   "metadata": {},
   "outputs": [],
   "source": [
    "\n",
    "# Define lists to store the time taken\n",
    "time_taken_cropped = []\n",
    "time_taken_uncropped = []\n",
    "\n",
    "# Analyze emotions in the cropped face image and full image 10 times\n",
    "for i in range(10):\n",
    "    start_time_uncropped = time.time()\n",
    "\n",
    "    # Analyze emotions in the full image\n",
    "    DeepFace.analyze(img, actions=['emotion'])\n",
    "\n",
    "    end_time_uncropped = time.time()\n",
    "\n",
    "    # Calculate the time taken for the uncropped image\n",
    "    time_taken_uncropped_i = end_time_uncropped - start_time_uncropped\n",
    "    time_taken_uncropped.append(time_taken_uncropped_i)\n",
    "\n",
    "    start_time_cropped = time.time()\n",
    "\n",
    "    DeepFace.analyze(face_cropped, actions=['emotion'])\n",
    "\n",
    "    end_time_cropped = time.time()\n",
    "\n",
    "    # Calculate the time taken for the cropped image\n",
    "    time_taken_cropped_i = end_time_cropped - start_time_cropped\n",
    "    time_taken_cropped.append(time_taken_cropped_i)\n",
    "\n",
    "# Plot the time taken using Matplotlib\n",
    "x = range(1, 11)\n",
    "plt.plot(x, time_taken_uncropped, label='Uncropped Image')\n",
    "plt.plot(x, time_taken_cropped, label='Cropped Image')\n",
    "plt.title('Time Taken to Process Cropped and Uncropped Images')\n",
    "plt.xlabel('Iteration')\n",
    "plt.ylabel('Time Taken (s)')\n",
    "plt.legend()\n",
    "plt.show()"
   ]
  },
  {
   "cell_type": "markdown",
   "metadata": {},
   "source": []
  },
  {
   "cell_type": "code",
   "execution_count": null,
   "metadata": {},
   "outputs": [],
   "source": [
    "# Load the cascade classifier\n",
    "import cv2\n",
    "import matplotlib.pyplot as plt\n",
    "from deepface import DeepFace \n",
    "\n",
    "face_cascade = cv2.CascadeClassifier(\"haarcascade_frontalface_default.xml\")\n",
    "\n",
    "# Start video capture\n",
    "cap = cv2.VideoCapture(0)\n",
    "\n",
    "while True:\n",
    "    # Read a frame from the video capture\n",
    "    ret, frame = cap.read()\n",
    "    \n",
    "\n",
    "    # Convert the frame to grayscale\n",
    "    gray = cv2.cvtColor(frame, cv2.COLOR_BGR2GRAY)\n",
    "\n",
    "    # Detect faces in the grayscale frame\n",
    "    faces = face_cascade.detectMultiScale(gray, scaleFactor=1.3, minNeighbors=5)\n",
    "\n",
    "    # Draw a rectangle around each face\n",
    "    for (x, y, w, h) in faces:\n",
    "        cv2.rectangle(frame, (x, y), (x+w, y+h), (255, 0, 0), 2)\n",
    "        face_cropped = frame[y:y+h, x:x+w]\n",
    "        predictions = DeepFace.analyze(gray,actions=['emotion'],enforce_detection = False)\n",
    "        \n",
    "        # Adjust the position and font size of the text\n",
    "        cv2.putText(frame, predictions[0]['dominant_emotion'], (x+w+10, y), cv2.FONT_HERSHEY_SIMPLEX, 1, (255, 0, 0), 2, cv2.LINE_AA)\n",
    "\n",
    "    # Display the frame\n",
    "    cv2.imshow(\"Face Detection\", frame)\n",
    "\n",
    "    # Break the loop if the 'q' key is pressed\n",
    "    if cv2.waitKey(1) & 0xFF == ord(\"q\"):\n",
    "        break\n",
    "\n",
    "# Release the video capture and destroy the window\n",
    "cap.release()\n",
    "cv2.destroyAllWindows()\n"
   ]
  },
  {
   "cell_type": "code",
   "execution_count": null,
   "metadata": {},
   "outputs": [],
   "source": [
    "cap.release()\n",
    "cv2.destroyAllWindows()"
   ]
  },
  {
   "cell_type": "markdown",
   "metadata": {},
   "source": []
  },
  {
   "cell_type": "code",
   "execution_count": 17,
   "metadata": {},
   "outputs": [
    {
     "name": "stderr",
     "output_type": "stream",
     "text": [
      "Action: emotion: 100%|██████████| 1/1 [00:00<00:00, 10.29it/s]\n",
      "Action: emotion: 100%|██████████| 1/1 [00:00<00:00, 11.84it/s]\n"
     ]
    }
   ],
   "source": [
    "frame = cv2.imread(\"angry.png\" )\n",
    "# Analyze emotions in the full image\n",
    "start_time = time.time()\n",
    "DeepFace.analyze(frame, actions=['emotion'])\n",
    "end_time = time.time()\n",
    "time_nohaar = end_time - start_time\n",
    "\n",
    "\n",
    "face_cascade = cv2.CascadeClassifier(\"haarcascade_frontalface_default.xml\")\n",
    "faces = face_cascade.detectMultiScale(frame, scaleFactor=1.3, minNeighbors=5)\n",
    "\n",
    "\n",
    "# Analyze emotions in the full image\n",
    "start_time = time.time()\n",
    "DeepFace.analyze(frame, actions=['emotion'])\n",
    "end_time = time.time()\n",
    "time_haar = end_time - start_time\n"
   ]
  },
  {
   "cell_type": "markdown",
   "metadata": {},
   "source": []
  },
  {
   "cell_type": "code",
   "execution_count": 18,
   "metadata": {},
   "outputs": [
    {
     "name": "stdout",
     "output_type": "stream",
     "text": [
      "Time to analyze emotions without Haar Cascade face image: 0.22 seconds\n",
      "Time to analyze emotions with Haar Cascade face image: 0.21 seconds\n"
     ]
    }
   ],
   "source": [
    "\n",
    "# Print the time it takes to analyze emotions in each image\n",
    "print(\"Time to analyze emotions without Haar Cascade face image: %.2f seconds\" % time_nohaar)\n",
    "\n",
    "# Print the time it takes to analyze emotions in each image\n",
    "print(\"Time to analyze emotions with Haar Cascade face image: %.2f seconds\" % time_haar)"
   ]
  },
  {
   "cell_type": "code",
   "execution_count": null,
   "metadata": {},
   "outputs": [],
   "source": []
  }
 ],
 "metadata": {
  "kernelspec": {
   "display_name": "Python 3",
   "language": "python",
   "name": "python3"
  },
  "language_info": {
   "codemirror_mode": {
    "name": "ipython",
    "version": 3
   },
   "file_extension": ".py",
   "mimetype": "text/x-python",
   "name": "python",
   "nbconvert_exporter": "python",
   "pygments_lexer": "ipython3",
   "version": "3.9.0"
  },
  "orig_nbformat": 4
 },
 "nbformat": 4,
 "nbformat_minor": 2
}
