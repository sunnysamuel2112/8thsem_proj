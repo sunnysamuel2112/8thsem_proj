{
 "cells": [
  {
   "attachments": {},
   "cell_type": "markdown",
   "metadata": {},
   "source": [
    "Import Open CV module"
   ]
  },
  {
   "cell_type": "code",
   "execution_count": null,
   "metadata": {},
   "outputs": [],
   "source": [
    "import cv2"
   ]
  },
  {
   "attachments": {},
   "cell_type": "markdown",
   "metadata": {},
   "source": [
    "To install DeepFace, run !pip install DeepFace, and use the DeepFace class to perform facial analysis tasks such as face recognition and facial attribute analysis."
   ]
  },
  {
   "cell_type": "code",
   "execution_count": null,
   "metadata": {},
   "outputs": [],
   "source": [
    "#pip install DeepFace\n",
    "from deepface import DeepFace "
   ]
  },
  {
   "attachments": {},
   "cell_type": "markdown",
   "metadata": {},
   "source": [
    "Plot the actual Image"
   ]
  },
  {
   "cell_type": "code",
   "execution_count": null,
   "metadata": {},
   "outputs": [],
   "source": [
    "import matplotlib.pyplot as plt\n",
    "import cv2\n",
    "\n",
    "# Load the image using OpenCV\n",
    "img = cv2.imread(\"multiple.jpg\")\n",
    "\n",
    "# Convert the BGR image to RGB\n",
    "img = cv2.cvtColor(img, cv2.COLOR_BGR2RGB)\n",
    "\n",
    "# Display the image using Matplotlib\n",
    "plt.imshow(img)\n",
    "plt.show()"
   ]
  },
  {
   "attachments": {},
   "cell_type": "markdown",
   "metadata": {},
   "source": [
    "Convert the Loaded image to Gray Scale image"
   ]
  },
  {
   "cell_type": "code",
   "execution_count": null,
   "metadata": {},
   "outputs": [],
   "source": [
    "gray = cv2.cvtColor(img, cv2.COLOR_BGR2GRAY)\n",
    "\n",
    "# Display the original image using Matplotlib\n",
    "plt.subplot(121)\n",
    "plt.imshow(cv2.cvtColor(img, cv2.COLOR_BGR2RGB))\n",
    "plt.title('Original Image')\n",
    "\n",
    "# Display the grayscale image using Matplotlib\n",
    "plt.subplot(122)\n",
    "plt.imshow(gray, cmap='gray')\n",
    "plt.title('Grayscale Image')\n",
    "\n",
    "plt.show()"
   ]
  },
  {
   "attachments": {},
   "cell_type": "markdown",
   "metadata": {},
   "source": [
    "Detecting every face with Gray Scale image"
   ]
  },
  {
   "cell_type": "code",
   "execution_count": null,
   "metadata": {},
   "outputs": [],
   "source": [
    "\n",
    "# Load the Haar cascade classifier for face detection\n",
    "face_cascade = cv2.CascadeClassifier('haarcascade_frontalface_default.xml')\n",
    "\n",
    "# Convert the image to grayscale\n",
    "gray = cv2.cvtColor(img, cv2.COLOR_BGR2GRAY)\n",
    "\n",
    "# Detect faces in the grayscale image using the classifier\n",
    "faces = face_cascade.detectMultiScale(gray, scaleFactor=1.3, minNeighbors=5)\n",
    "\n",
    "# Draw a rectangle around each detected face\n",
    "for (x, y, w, h) in faces:\n",
    "    cv2.rectangle(img, (x, y), (x+w, y+h), (255, 0, 0), 2)\n",
    "\n",
    "# Display the image with the detected faces using Matplotlib\n",
    "plt.imshow(cv2.cvtColor(gray, cv2.COLOR_BGR2RGB))\n",
    "plt.show()"
   ]
  },
  {
   "attachments": {},
   "cell_type": "markdown",
   "metadata": {},
   "source": [
    "Crop the unwanted area from the Photo"
   ]
  },
  {
   "cell_type": "code",
   "execution_count": null,
   "metadata": {},
   "outputs": [],
   "source": [
    "for (x, y, w, h) in faces:\n",
    "    face_cropped = img[y:y+h, x:x+w]\n",
    "    plt.imshow(cv2.cvtColor(face_cropped, cv2.COLOR_BGR2RGB))\n",
    "    plt.show()"
   ]
  },
  {
   "attachments": {},
   "cell_type": "markdown",
   "metadata": {},
   "source": [
    "Now, for demonstrating the speed!!!"
   ]
  },
  {
   "cell_type": "code",
   "execution_count": null,
   "metadata": {},
   "outputs": [],
   "source": [
    "import time"
   ]
  },
  {
   "attachments": {},
   "cell_type": "markdown",
   "metadata": {},
   "source": [
    "Time taken by DeepFace to analyze using Cropped image vs Uncropped image"
   ]
  },
  {
   "cell_type": "code",
   "execution_count": null,
   "metadata": {},
   "outputs": [],
   "source": [
    "# Analyze emotions in the full image\n",
    "start_time = time.time()\n",
    "DeepFace.analyze(img, actions=['emotion'])\n",
    "end_time = time.time()\n",
    "time_uncropped = end_time - start_time\n",
    "\n",
    "# Analyze emotions in the full image\n",
    "start_time = time.time()\n",
    "DeepFace.analyze(face_cropped, actions=['emotion'], enforce_detection= False)\n",
    "end_time = time.time()\n",
    "time_cropped = end_time - start_time\n"
   ]
  },
  {
   "attachments": {},
   "cell_type": "markdown",
   "metadata": {},
   "source": [
    "Show the time difference "
   ]
  },
  {
   "cell_type": "code",
   "execution_count": null,
   "metadata": {},
   "outputs": [],
   "source": [
    "\n",
    "# Print the time it takes to analyze emotions in each image\n",
    "print(\"Time to analyze emotions in uncropped face image: %.2f seconds\" % time_uncropped)\n",
    "\n",
    "# Print the time it takes to analyze emotions in each image\n",
    "print(\"Time to analyze emotions in cropped face image: %.2f seconds\" % time_cropped)"
   ]
  },
  {
   "attachments": {},
   "cell_type": "markdown",
   "metadata": {},
   "source": [
    "Speed difference in percentage"
   ]
  },
  {
   "cell_type": "code",
   "execution_count": null,
   "metadata": {},
   "outputs": [],
   "source": [
    "speed_perc = ((time_uncropped - time_cropped)/time_uncropped)*100\n",
    "print(\"the speed difference in percentage is \"+ str(speed_perc)+\" %\")"
   ]
  },
  {
   "attachments": {},
   "cell_type": "markdown",
   "metadata": {},
   "source": [
    "Lets Plot the same and see it visually!"
   ]
  },
  {
   "cell_type": "code",
   "execution_count": null,
   "metadata": {},
   "outputs": [],
   "source": [
    "import numpy as np"
   ]
  },
  {
   "cell_type": "code",
   "execution_count": null,
   "metadata": {},
   "outputs": [],
   "source": [
    "\n",
    "# Define lists to store the time taken\n",
    "time_taken_cropped = []\n",
    "time_taken_uncropped = []\n",
    "\n",
    "# Analyze emotions in the cropped face image and full image 10 times\n",
    "for i in range(10):\n",
    "    start_time_uncropped = time.time()\n",
    "\n",
    "    # Analyze emotions in the full image\n",
    "    DeepFace.analyze(img, actions=['emotion'], enforce_detection= False)\n",
    "\n",
    "    end_time_uncropped = time.time()\n",
    "\n",
    "    # Calculate the time taken for the uncropped image\n",
    "    time_taken_uncropped_i = end_time_uncropped - start_time_uncropped\n",
    "    time_taken_uncropped.append(time_taken_uncropped_i)\n",
    "\n",
    "    start_time_cropped = time.time()\n",
    "\n",
    "    DeepFace.analyze(face_cropped, actions=['emotion'],enforce_detection= False)\n",
    "\n",
    "    end_time_cropped = time.time()\n",
    "\n",
    "    # Calculate the time taken for the cropped image\n",
    "    time_taken_cropped_i = end_time_cropped - start_time_cropped\n",
    "    time_taken_cropped.append(time_taken_cropped_i)\n",
    "\n"
   ]
  },
  {
   "cell_type": "code",
   "execution_count": null,
   "metadata": {},
   "outputs": [],
   "source": [
    "# Plot the time taken using Matplotlib\n",
    "x = range(1, 11)\n",
    "plt.plot(x, time_taken_uncropped, label='Uncropped Image')\n",
    "plt.plot(x, time_taken_cropped, label='Cropped Image')\n",
    "plt.title('Time Taken to Process Cropped and Uncropped Images')\n",
    "plt.xlabel('Iteration')\n",
    "plt.ylabel('Time Taken (s)')\n",
    "plt.legend()\n",
    "plt.show()"
   ]
  },
  {
   "cell_type": "code",
   "execution_count": null,
   "metadata": {},
   "outputs": [],
   "source": [
    "\n",
    "# Analyze emotions in the haar cascade\n",
    "start_time = time.time()\n",
    "DeepFace.analyze(face_cropped, actions=['emotion'],enforce_detection= False)\n",
    "end_time = time.time()\n",
    "time_nohaar = end_time - start_time\n",
    "\n",
    "\n",
    "face_cascade = cv2.CascadeClassifier(\"haarcascade_frontalface_default.xml\")\n",
    "faces = face_cascade.detectMultiScale(frame, scaleFactor=1.3, minNeighbors=5)\n",
    "\n",
    "\n",
    "# Analyze emotions in the no haar cascade image\n",
    "start_time = time.time()\n",
    "DeepFace.analyze(face_cropped, actions=['emotion'],enforce_detection= False)\n",
    "end_time = time.time()\n",
    "time_haar = end_time - start_time\n"
   ]
  },
  {
   "attachments": {},
   "cell_type": "markdown",
   "metadata": {},
   "source": [
    "Emotion Recognition with Haar-cascade vs Without Haar-cascade"
   ]
  },
  {
   "cell_type": "code",
   "execution_count": null,
   "metadata": {},
   "outputs": [],
   "source": [
    "\n",
    "# Print the time it takes to analyze emotions in each image\n",
    "print(\"Time to analyze emotions without Haar Cascade face image: %.2f seconds\" % time_nohaar)\n",
    "\n",
    "# Print the time it takes to analyze emotions in each image\n",
    "print(\"Time to analyze emotions with Haar Cascade face image: %.2f seconds\" % time_haar)"
   ]
  },
  {
   "attachments": {},
   "cell_type": "markdown",
   "metadata": {},
   "source": [
    "Calculating accuracy growth"
   ]
  },
  {
   "cell_type": "code",
   "execution_count": null,
   "metadata": {},
   "outputs": [],
   "source": [
    "growth_in_accuracy = ((time_nohaar-time_haar)/time_nohaar)*100"
   ]
  },
  {
   "attachments": {},
   "cell_type": "markdown",
   "metadata": {},
   "source": [
    "Show the accuracy growth"
   ]
  },
  {
   "cell_type": "code",
   "execution_count": null,
   "metadata": {},
   "outputs": [],
   "source": [
    "print(\"Growth in accuracy \"+ str(growth_in_accuracy)+ \" %\")"
   ]
  }
 ],
 "metadata": {
  "kernelspec": {
   "display_name": "Python 3",
   "language": "python",
   "name": "python3"
  },
  "language_info": {
   "codemirror_mode": {
    "name": "ipython",
    "version": 3
   },
   "file_extension": ".py",
   "mimetype": "text/x-python",
   "name": "python",
   "nbconvert_exporter": "python",
   "pygments_lexer": "ipython3",
   "version": "3.9.0"
  },
  "orig_nbformat": 4
 },
 "nbformat": 4,
 "nbformat_minor": 2
}
